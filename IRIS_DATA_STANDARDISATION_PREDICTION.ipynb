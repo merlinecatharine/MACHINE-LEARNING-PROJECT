{
  "nbformat": 4,
  "nbformat_minor": 0,
  "metadata": {
    "colab": {
      "name": "IRIS_DATA_STANDARDISATION_PREDICTION.ipynb",
      "provenance": [],
      "include_colab_link": true
    },
    "kernelspec": {
      "name": "python3",
      "display_name": "Python 3"
    },
    "language_info": {
      "name": "python"
    }
  },
  "cells": [
    {
      "cell_type": "markdown",
      "metadata": {
        "id": "view-in-github",
        "colab_type": "text"
      },
      "source": [
        "<a href=\"https://colab.research.google.com/github/merlinecatharine/MACHINE-LEARNING-PROJECT/blob/main/IRIS_DATA_STANDARDISATION_PREDICTION.ipynb\" target=\"_parent\"><img src=\"https://colab.research.google.com/assets/colab-badge.svg\" alt=\"Open In Colab\"/></a>"
      ]
    },
    {
      "cell_type": "markdown",
      "source": [
        "IRIS_DATASET STANDARDISING ,TRAINING AND PREDICTION:\n",
        "---\n",
        "\n"
      ],
      "metadata": {
        "id": "JgUq79Ukxy79"
      }
    },
    {
      "cell_type": "markdown",
      "source": [
        "TABLE OF CONTENTS:\n",
        "---\n",
        "1.STANDARDISING THE IRIS DATASET\n",
        "\n",
        "2.TRAINING THE MODEL\n",
        "\n",
        "3.PREDICTING IN IRIS DATASET\n"
      ],
      "metadata": {
        "id": "11XkCkw9yBBg"
      }
    },
    {
      "cell_type": "markdown",
      "source": [
        "\n",
        "STANDARDISING THE IRIS DATASET:\n",
        "---\n",
        "\n"
      ],
      "metadata": {
        "id": "al2PuMgNvjU_"
      }
    },
    {
      "cell_type": "markdown",
      "source": [
        "Importing required libraries\n",
        "\n",
        "---\n",
        "\n"
      ],
      "metadata": {
        "id": "lpVYqED8vpvp"
      }
    },
    {
      "cell_type": "code",
      "execution_count": null,
      "metadata": {
        "id": "5r8KVNq_X7WP"
      },
      "outputs": [],
      "source": [
        "#importing\n",
        "import seaborn as sns  #importing seaborn\n",
        "import pandas as pd\n",
        "import matplotlib.pyplot as plt\n",
        "import numpy as np"
      ]
    },
    {
      "cell_type": "code",
      "source": [
        "import sklearn.datasets\n",
        "from sklearn.preprocessing import StandardScaler\n",
        "from sklearn.model_selection import train_test_split"
      ],
      "metadata": {
        "id": "KdT4nFkrkA5v"
      },
      "execution_count": null,
      "outputs": []
    },
    {
      "cell_type": "markdown",
      "source": [
        "reading dataset\n",
        "\n",
        "---\n",
        "\n"
      ],
      "metadata": {
        "id": "r9rEOyrvvzpz"
      }
    },
    {
      "cell_type": "code",
      "source": [
        "path='/content/IRIS.csv'\n",
        "df=pd.read_csv('IRIS.csv')"
      ],
      "metadata": {
        "id": "_M2cthHckEkb"
      },
      "execution_count": null,
      "outputs": []
    },
    {
      "cell_type": "markdown",
      "source": [
        "printing dataset\n",
        "\n",
        "---\n",
        "\n"
      ],
      "metadata": {
        "id": "44xh2F_Jv8se"
      }
    },
    {
      "cell_type": "code",
      "source": [
        "df"
      ],
      "metadata": {
        "colab": {
          "base_uri": "https://localhost:8080/",
          "height": 424
        },
        "id": "zYztljyekPSB",
        "outputId": "0011bf2c-3a4b-49ed-b76f-5ad87b95b73a"
      },
      "execution_count": null,
      "outputs": [
        {
          "output_type": "execute_result",
          "data": {
            "text/plain": [
              "     sepal_length  sepal_width  petal_length  petal_width         species\n",
              "0             5.1          3.5           1.4          0.2     Iris-setosa\n",
              "1             4.9          3.0           1.4          0.2     Iris-setosa\n",
              "2             4.7          3.2           1.3          0.2     Iris-setosa\n",
              "3             4.6          3.1           1.5          0.2     Iris-setosa\n",
              "4             5.0          3.6           1.4          0.2     Iris-setosa\n",
              "..            ...          ...           ...          ...             ...\n",
              "145           6.7          3.0           5.2          2.3  Iris-virginica\n",
              "146           6.3          2.5           5.0          1.9  Iris-virginica\n",
              "147           6.5          3.0           5.2          2.0  Iris-virginica\n",
              "148           6.2          3.4           5.4          2.3  Iris-virginica\n",
              "149           5.9          3.0           5.1          1.8  Iris-virginica\n",
              "\n",
              "[150 rows x 5 columns]"
            ],
            "text/html": [
              "\n",
              "  <div id=\"df-d76219e8-414e-41e1-a3c2-ce51bff07121\">\n",
              "    <div class=\"colab-df-container\">\n",
              "      <div>\n",
              "<style scoped>\n",
              "    .dataframe tbody tr th:only-of-type {\n",
              "        vertical-align: middle;\n",
              "    }\n",
              "\n",
              "    .dataframe tbody tr th {\n",
              "        vertical-align: top;\n",
              "    }\n",
              "\n",
              "    .dataframe thead th {\n",
              "        text-align: right;\n",
              "    }\n",
              "</style>\n",
              "<table border=\"1\" class=\"dataframe\">\n",
              "  <thead>\n",
              "    <tr style=\"text-align: right;\">\n",
              "      <th></th>\n",
              "      <th>sepal_length</th>\n",
              "      <th>sepal_width</th>\n",
              "      <th>petal_length</th>\n",
              "      <th>petal_width</th>\n",
              "      <th>species</th>\n",
              "    </tr>\n",
              "  </thead>\n",
              "  <tbody>\n",
              "    <tr>\n",
              "      <th>0</th>\n",
              "      <td>5.1</td>\n",
              "      <td>3.5</td>\n",
              "      <td>1.4</td>\n",
              "      <td>0.2</td>\n",
              "      <td>Iris-setosa</td>\n",
              "    </tr>\n",
              "    <tr>\n",
              "      <th>1</th>\n",
              "      <td>4.9</td>\n",
              "      <td>3.0</td>\n",
              "      <td>1.4</td>\n",
              "      <td>0.2</td>\n",
              "      <td>Iris-setosa</td>\n",
              "    </tr>\n",
              "    <tr>\n",
              "      <th>2</th>\n",
              "      <td>4.7</td>\n",
              "      <td>3.2</td>\n",
              "      <td>1.3</td>\n",
              "      <td>0.2</td>\n",
              "      <td>Iris-setosa</td>\n",
              "    </tr>\n",
              "    <tr>\n",
              "      <th>3</th>\n",
              "      <td>4.6</td>\n",
              "      <td>3.1</td>\n",
              "      <td>1.5</td>\n",
              "      <td>0.2</td>\n",
              "      <td>Iris-setosa</td>\n",
              "    </tr>\n",
              "    <tr>\n",
              "      <th>4</th>\n",
              "      <td>5.0</td>\n",
              "      <td>3.6</td>\n",
              "      <td>1.4</td>\n",
              "      <td>0.2</td>\n",
              "      <td>Iris-setosa</td>\n",
              "    </tr>\n",
              "    <tr>\n",
              "      <th>...</th>\n",
              "      <td>...</td>\n",
              "      <td>...</td>\n",
              "      <td>...</td>\n",
              "      <td>...</td>\n",
              "      <td>...</td>\n",
              "    </tr>\n",
              "    <tr>\n",
              "      <th>145</th>\n",
              "      <td>6.7</td>\n",
              "      <td>3.0</td>\n",
              "      <td>5.2</td>\n",
              "      <td>2.3</td>\n",
              "      <td>Iris-virginica</td>\n",
              "    </tr>\n",
              "    <tr>\n",
              "      <th>146</th>\n",
              "      <td>6.3</td>\n",
              "      <td>2.5</td>\n",
              "      <td>5.0</td>\n",
              "      <td>1.9</td>\n",
              "      <td>Iris-virginica</td>\n",
              "    </tr>\n",
              "    <tr>\n",
              "      <th>147</th>\n",
              "      <td>6.5</td>\n",
              "      <td>3.0</td>\n",
              "      <td>5.2</td>\n",
              "      <td>2.0</td>\n",
              "      <td>Iris-virginica</td>\n",
              "    </tr>\n",
              "    <tr>\n",
              "      <th>148</th>\n",
              "      <td>6.2</td>\n",
              "      <td>3.4</td>\n",
              "      <td>5.4</td>\n",
              "      <td>2.3</td>\n",
              "      <td>Iris-virginica</td>\n",
              "    </tr>\n",
              "    <tr>\n",
              "      <th>149</th>\n",
              "      <td>5.9</td>\n",
              "      <td>3.0</td>\n",
              "      <td>5.1</td>\n",
              "      <td>1.8</td>\n",
              "      <td>Iris-virginica</td>\n",
              "    </tr>\n",
              "  </tbody>\n",
              "</table>\n",
              "<p>150 rows × 5 columns</p>\n",
              "</div>\n",
              "      <button class=\"colab-df-convert\" onclick=\"convertToInteractive('df-d76219e8-414e-41e1-a3c2-ce51bff07121')\"\n",
              "              title=\"Convert this dataframe to an interactive table.\"\n",
              "              style=\"display:none;\">\n",
              "        \n",
              "  <svg xmlns=\"http://www.w3.org/2000/svg\" height=\"24px\"viewBox=\"0 0 24 24\"\n",
              "       width=\"24px\">\n",
              "    <path d=\"M0 0h24v24H0V0z\" fill=\"none\"/>\n",
              "    <path d=\"M18.56 5.44l.94 2.06.94-2.06 2.06-.94-2.06-.94-.94-2.06-.94 2.06-2.06.94zm-11 1L8.5 8.5l.94-2.06 2.06-.94-2.06-.94L8.5 2.5l-.94 2.06-2.06.94zm10 10l.94 2.06.94-2.06 2.06-.94-2.06-.94-.94-2.06-.94 2.06-2.06.94z\"/><path d=\"M17.41 7.96l-1.37-1.37c-.4-.4-.92-.59-1.43-.59-.52 0-1.04.2-1.43.59L10.3 9.45l-7.72 7.72c-.78.78-.78 2.05 0 2.83L4 21.41c.39.39.9.59 1.41.59.51 0 1.02-.2 1.41-.59l7.78-7.78 2.81-2.81c.8-.78.8-2.07 0-2.86zM5.41 20L4 18.59l7.72-7.72 1.47 1.35L5.41 20z\"/>\n",
              "  </svg>\n",
              "      </button>\n",
              "      \n",
              "  <style>\n",
              "    .colab-df-container {\n",
              "      display:flex;\n",
              "      flex-wrap:wrap;\n",
              "      gap: 12px;\n",
              "    }\n",
              "\n",
              "    .colab-df-convert {\n",
              "      background-color: #E8F0FE;\n",
              "      border: none;\n",
              "      border-radius: 50%;\n",
              "      cursor: pointer;\n",
              "      display: none;\n",
              "      fill: #1967D2;\n",
              "      height: 32px;\n",
              "      padding: 0 0 0 0;\n",
              "      width: 32px;\n",
              "    }\n",
              "\n",
              "    .colab-df-convert:hover {\n",
              "      background-color: #E2EBFA;\n",
              "      box-shadow: 0px 1px 2px rgba(60, 64, 67, 0.3), 0px 1px 3px 1px rgba(60, 64, 67, 0.15);\n",
              "      fill: #174EA6;\n",
              "    }\n",
              "\n",
              "    [theme=dark] .colab-df-convert {\n",
              "      background-color: #3B4455;\n",
              "      fill: #D2E3FC;\n",
              "    }\n",
              "\n",
              "    [theme=dark] .colab-df-convert:hover {\n",
              "      background-color: #434B5C;\n",
              "      box-shadow: 0px 1px 3px 1px rgba(0, 0, 0, 0.15);\n",
              "      filter: drop-shadow(0px 1px 2px rgba(0, 0, 0, 0.3));\n",
              "      fill: #FFFFFF;\n",
              "    }\n",
              "  </style>\n",
              "\n",
              "      <script>\n",
              "        const buttonEl =\n",
              "          document.querySelector('#df-d76219e8-414e-41e1-a3c2-ce51bff07121 button.colab-df-convert');\n",
              "        buttonEl.style.display =\n",
              "          google.colab.kernel.accessAllowed ? 'block' : 'none';\n",
              "\n",
              "        async function convertToInteractive(key) {\n",
              "          const element = document.querySelector('#df-d76219e8-414e-41e1-a3c2-ce51bff07121');\n",
              "          const dataTable =\n",
              "            await google.colab.kernel.invokeFunction('convertToInteractive',\n",
              "                                                     [key], {});\n",
              "          if (!dataTable) return;\n",
              "\n",
              "          const docLinkHtml = 'Like what you see? Visit the ' +\n",
              "            '<a target=\"_blank\" href=https://colab.research.google.com/notebooks/data_table.ipynb>data table notebook</a>'\n",
              "            + ' to learn more about interactive tables.';\n",
              "          element.innerHTML = '';\n",
              "          dataTable['output_type'] = 'display_data';\n",
              "          await google.colab.output.renderOutput(dataTable, element);\n",
              "          const docLink = document.createElement('div');\n",
              "          docLink.innerHTML = docLinkHtml;\n",
              "          element.appendChild(docLink);\n",
              "        }\n",
              "      </script>\n",
              "    </div>\n",
              "  </div>\n",
              "  "
            ]
          },
          "metadata": {},
          "execution_count": 76
        }
      ]
    },
    {
      "cell_type": "code",
      "source": [
        "x=df.drop(columns='species',axis=1)\n",
        "y=df.species\n",
        "\n"
      ],
      "metadata": {
        "id": "mBCyFNNEkRi-"
      },
      "execution_count": null,
      "outputs": []
    },
    {
      "cell_type": "code",
      "source": [
        "print(x)"
      ],
      "metadata": {
        "colab": {
          "base_uri": "https://localhost:8080/"
        },
        "id": "6TLSOifQnRPE",
        "outputId": "3f0003a2-d42b-4288-bbff-d50e810b2243"
      },
      "execution_count": null,
      "outputs": [
        {
          "output_type": "stream",
          "name": "stdout",
          "text": [
            "     sepal_length  sepal_width  petal_length  petal_width\n",
            "0             5.1          3.5           1.4          0.2\n",
            "1             4.9          3.0           1.4          0.2\n",
            "2             4.7          3.2           1.3          0.2\n",
            "3             4.6          3.1           1.5          0.2\n",
            "4             5.0          3.6           1.4          0.2\n",
            "..            ...          ...           ...          ...\n",
            "145           6.7          3.0           5.2          2.3\n",
            "146           6.3          2.5           5.0          1.9\n",
            "147           6.5          3.0           5.2          2.0\n",
            "148           6.2          3.4           5.4          2.3\n",
            "149           5.9          3.0           5.1          1.8\n",
            "\n",
            "[150 rows x 4 columns]\n"
          ]
        }
      ]
    },
    {
      "cell_type": "code",
      "source": [
        "print(y)"
      ],
      "metadata": {
        "colab": {
          "base_uri": "https://localhost:8080/"
        },
        "id": "L8uVqd-Jos2_",
        "outputId": "7a3b2712-be70-4e5e-f457-4e80445a9384"
      },
      "execution_count": null,
      "outputs": [
        {
          "output_type": "stream",
          "name": "stdout",
          "text": [
            "0         Iris-setosa\n",
            "1         Iris-setosa\n",
            "2         Iris-setosa\n",
            "3         Iris-setosa\n",
            "4         Iris-setosa\n",
            "            ...      \n",
            "145    Iris-virginica\n",
            "146    Iris-virginica\n",
            "147    Iris-virginica\n",
            "148    Iris-virginica\n",
            "149    Iris-virginica\n",
            "Name: species, Length: 150, dtype: object\n"
          ]
        }
      ]
    },
    {
      "cell_type": "code",
      "source": [
        "x_train,x_test,y_train,y_test=train_test_split(x,y,test_size=0.2,random_state=3)"
      ],
      "metadata": {
        "id": "nYh6_jcGo5-L"
      },
      "execution_count": null,
      "outputs": []
    },
    {
      "cell_type": "code",
      "source": [
        "print(x.shape,x_train.shape,x_test.shape)"
      ],
      "metadata": {
        "colab": {
          "base_uri": "https://localhost:8080/"
        },
        "id": "XxccaNEMo9lk",
        "outputId": "0f5f3485-904e-40b1-80e3-6841a3841dc9"
      },
      "execution_count": null,
      "outputs": [
        {
          "output_type": "stream",
          "name": "stdout",
          "text": [
            "(150, 4) (120, 4) (30, 4)\n"
          ]
        }
      ]
    },
    {
      "cell_type": "code",
      "source": [
        "print(df.std())"
      ],
      "metadata": {
        "colab": {
          "base_uri": "https://localhost:8080/"
        },
        "id": "QkrfOXh1pAit",
        "outputId": "7e1e8a04-27f4-406f-aab3-b1b7b35e00e2"
      },
      "execution_count": null,
      "outputs": [
        {
          "output_type": "stream",
          "name": "stdout",
          "text": [
            "sepal_length    0.828066\n",
            "sepal_width     0.433594\n",
            "petal_length    1.764420\n",
            "petal_width     0.763161\n",
            "dtype: float64\n"
          ]
        }
      ]
    },
    {
      "cell_type": "code",
      "source": [
        "scaler=StandardScaler()"
      ],
      "metadata": {
        "id": "czDCSemPprYv"
      },
      "execution_count": null,
      "outputs": []
    },
    {
      "cell_type": "code",
      "source": [
        "scaler.fit(x_train)\n"
      ],
      "metadata": {
        "colab": {
          "base_uri": "https://localhost:8080/"
        },
        "id": "5oYm4ZrBpvok",
        "outputId": "048f97cb-8025-49fe-ef89-de9cb7c93b62"
      },
      "execution_count": null,
      "outputs": [
        {
          "output_type": "execute_result",
          "data": {
            "text/plain": [
              "StandardScaler()"
            ]
          },
          "metadata": {},
          "execution_count": 85
        }
      ]
    },
    {
      "cell_type": "code",
      "source": [
        "x_train_standardized=scaler.transform(x_train)"
      ],
      "metadata": {
        "id": "C6xhY9ncpyhf"
      },
      "execution_count": null,
      "outputs": []
    },
    {
      "cell_type": "code",
      "source": [
        "print(x_train_standardized)"
      ],
      "metadata": {
        "colab": {
          "base_uri": "https://localhost:8080/"
        },
        "id": "2I_Y3jYSp1wr",
        "outputId": "82ad59ad-50dc-41e1-c4cb-99d2e3b54427"
      },
      "execution_count": null,
      "outputs": [
        {
          "output_type": "stream",
          "name": "stdout",
          "text": [
            "[[-0.04717658  2.19102181 -1.46020619 -1.31097023]\n",
            " [-1.30521861  0.78501851 -1.06028014 -1.31097023]\n",
            " [ 1.33666966  0.08201686  0.93935012  1.19659028]\n",
            " [ 0.95925705 -0.38665091  0.48229177  0.14077533]\n",
            " [-1.80843543 -0.38665091 -1.34594161 -1.31097023]\n",
            " [-0.8020018   1.01935239 -1.28880931 -1.31097023]\n",
            " [ 1.08506126 -0.15231702  0.71082095  0.6686828 ]\n",
            " [-1.68263122 -1.79265421 -1.4030739  -1.17899336]\n",
            " [ 0.70764865 -0.85531868  0.88221783  0.93263654]\n",
            " [ 0.45604024 -2.02698809  0.42515948  0.40472907]\n",
            " [ 0.70764865 -0.62098479  1.05361471  1.19659028]\n",
            " [-0.04717658 -0.85531868  0.08236572  0.00879846]\n",
            " [-1.55682702  1.25368628 -1.57447078 -1.31097023]\n",
            " [-0.927806    1.01935239 -1.34594161 -1.17899336]\n",
            " [ 0.33023603 -0.15231702  0.65368865  0.80065967]\n",
            " [ 0.70764865  0.31635074  0.42515948  0.40472907]\n",
            " [-0.927806    0.55068463 -1.17454473 -0.91503963]\n",
            " [ 0.20443183 -0.85531868  0.76795324  0.53670593]\n",
            " [-0.04717658 -0.85531868  0.76795324  0.93263654]\n",
            " [-0.55039339 -0.15231702  0.42515948  0.40472907]\n",
            " [-1.30521861 -0.15231702 -1.34594161 -1.17899336]\n",
            " [-1.05361021  0.31635074 -1.46020619 -1.31097023]\n",
            " [-0.04717658 -0.85531868  0.76795324  0.93263654]\n",
            " [ 1.46247387  0.31635074  0.53942407  0.2727522 ]\n",
            " [ 0.33023603 -0.62098479  0.53942407  0.00879846]\n",
            " [-1.17941441  0.08201686 -1.28880931 -1.4429471 ]\n",
            " [ 0.58184444  0.78501851  1.05361471  1.59252089]\n",
            " [-0.927806    1.72235404 -1.28880931 -1.17899336]\n",
            " [ 0.83345285 -0.15231702  0.99648241  0.80065967]\n",
            " [-0.17298078 -0.38665091  0.2537626   0.14077533]\n",
            " [-1.05361021  1.25368628 -1.34594161 -1.31097023]\n",
            " [-1.30521861 -0.15231702 -1.34594161 -1.4429471 ]\n",
            " [ 1.21086546  0.31635074  1.22501159  1.46054402]\n",
            " [ 0.07862763  0.31635074  0.59655636  0.80065967]\n",
            " [-0.55039339  1.48802016 -1.28880931 -1.31097023]\n",
            " [-1.30521861  0.78501851 -1.23167702 -1.31097023]\n",
            " [-0.927806   -1.32398644 -0.43182492 -0.12317841]\n",
            " [ 0.70764865  0.08201686  0.99648241  0.80065967]\n",
            " [ 0.58184444  0.55068463  1.28214388  1.72449776]\n",
            " [-1.17941441  0.08201686 -1.28880931 -1.4429471 ]\n",
            " [ 1.08506126  0.55068463  1.110747    1.19659028]\n",
            " [-0.17298078 -0.15231702  0.2537626   0.00879846]\n",
            " [-1.43102282  0.31635074 -1.23167702 -1.31097023]\n",
            " [-0.927806    0.78501851 -1.28880931 -1.31097023]\n",
            " [ 1.96569068 -0.62098479  1.33927617  0.93263654]\n",
            " [ 2.34310329  1.72235404  1.68206993  1.32856715]\n",
            " [-0.04717658 -0.62098479  0.76795324  1.59252089]\n",
            " [-0.17298078 -0.62098479  0.19663031  0.14077533]\n",
            " [-0.8020018  -0.85531868  0.08236572  0.2727522 ]\n",
            " [ 0.58184444 -1.79265421  0.36802719  0.14077533]\n",
            " [-0.927806    1.72235404 -1.06028014 -1.0470165 ]\n",
            " [-0.42458919  1.01935239 -1.4030739  -1.31097023]\n",
            " [ 0.70764865  0.31635074  0.88221783  1.46054402]\n",
            " [ 1.08506126  0.55068463  1.110747    1.72449776]\n",
            " [ 1.33666966  0.08201686  0.65368865  0.40472907]\n",
            " [ 1.58827807 -0.15231702  1.22501159  1.19659028]\n",
            " [ 0.07862763 -0.15231702  0.2537626   0.40472907]\n",
            " [ 2.34310329 -0.62098479  1.68206993  1.06461341]\n",
            " [-1.30521861  0.08201686 -1.23167702 -1.31097023]\n",
            " [ 0.58184444 -0.62098479  0.76795324  0.40472907]\n",
            " [-1.93423963 -0.15231702 -1.51733849 -1.4429471 ]\n",
            " [-0.17298078 -0.62098479  0.42515948  0.14077533]\n",
            " [ 0.95925705 -0.15231702  0.36802719  0.2727522 ]\n",
            " [ 0.70764865 -0.62098479  1.05361471  1.32856715]\n",
            " [ 0.45604024  0.78501851  0.93935012  1.46054402]\n",
            " [-0.8020018   2.4253557  -1.28880931 -1.4429471 ]\n",
            " [-0.42458919 -1.55832033  0.02523343 -0.12317841]\n",
            " [-0.55039339  1.95668793 -1.4030739  -1.0470165 ]\n",
            " [ 0.33023603 -0.15231702  0.48229177  0.2727522 ]\n",
            " [ 0.70764865 -0.38665091  0.3108949   0.14077533]\n",
            " [ 0.20443183  0.78501851  0.42515948  0.53670593]\n",
            " [-1.17941441 -0.15231702 -1.34594161 -1.31097023]\n",
            " [ 1.71408227  0.31635074  1.28214388  0.80065967]\n",
            " [-0.927806    1.72235404 -1.23167702 -1.31097023]\n",
            " [ 1.08506126 -1.32398644  1.16787929  0.80065967]\n",
            " [ 0.33023603 -0.62098479  0.13949802  0.14077533]\n",
            " [ 1.08506126 -0.15231702  0.82508553  1.46054402]\n",
            " [ 0.58184444  0.55068463  0.53942407  0.53670593]\n",
            " [-0.29878498 -0.62098479  0.65368865  1.06461341]\n",
            " [ 0.33023603 -0.38665091  0.53942407  0.2727522 ]\n",
            " [-0.17298078  1.72235404 -1.17454473 -1.17899336]\n",
            " [ 2.21729909 -0.15231702  1.62493764  1.19659028]\n",
            " [-0.29878498 -0.38665091 -0.08903116  0.14077533]\n",
            " [ 0.83345285 -0.15231702  0.82508553  1.06461341]\n",
            " [ 0.83345285 -0.62098479  0.48229177  0.40472907]\n",
            " [-0.8020018   0.78501851 -1.34594161 -1.31097023]\n",
            " [ 0.20443183 -0.38665091  0.42515948  0.40472907]\n",
            " [ 0.58184444 -1.32398644  0.71082095  0.93263654]\n",
            " [-1.05361021  0.55068463 -1.34594161 -1.31097023]\n",
            " [-0.29878498 -0.85531868  0.2537626   0.14077533]\n",
            " [-0.55039339  0.78501851 -1.17454473 -1.31097023]\n",
            " [-1.17941441  0.08201686 -1.28880931 -1.4429471 ]\n",
            " [-0.67619759  1.48802016 -1.28880931 -1.31097023]\n",
            " [-0.17298078 -1.08965256 -0.14616345 -0.25515528]\n",
            " [ 0.58184444 -0.85531868  0.65368865  0.80065967]\n",
            " [-0.42458919  2.65968958 -1.34594161 -1.31097023]\n",
            " [-1.05361021  1.01935239 -1.23167702 -0.78306276]\n",
            " [ 1.33666966  0.31635074  1.110747    1.46054402]\n",
            " [-1.05361021  0.78501851 -1.28880931 -1.31097023]\n",
            " [ 0.20443183 -2.02698809  0.13949802 -0.25515528]\n",
            " [ 0.07862763 -0.15231702  0.76795324  0.80065967]\n",
            " [ 0.45604024 -0.38665091  0.3108949   0.14077533]\n",
            " [ 0.83345285  0.31635074  0.76795324  1.06461341]\n",
            " [ 0.83345285 -0.15231702  1.16787929  1.32856715]\n",
            " [-0.29878498 -1.32398644  0.08236572 -0.12317841]\n",
            " [-0.42458919 -1.08965256  0.36802719  0.00879846]\n",
            " [ 1.71408227 -0.15231702  1.16787929  0.53670593]\n",
            " [-1.05361021 -2.49565586 -0.14616345 -0.25515528]\n",
            " [-1.43102282  0.31635074 -1.4030739  -1.31097023]\n",
            " [-0.29878498 -0.15231702  0.42515948  0.40472907]\n",
            " [-0.42458919 -1.55832033 -0.03189886 -0.25515528]\n",
            " [-1.05361021  0.78501851 -1.23167702 -1.0470165 ]\n",
            " [-1.05361021 -1.79265421 -0.26042804 -0.25515528]\n",
            " [ 0.20443183 -2.02698809  0.71082095  0.40472907]\n",
            " [ 0.20443183 -0.15231702  0.59655636  0.80065967]\n",
            " [ 1.83988648 -0.38665091  1.45354076  0.80065967]\n",
            " [-0.927806    1.48802016 -1.28880931 -1.0470165 ]\n",
            " [-0.927806    1.01935239 -1.34594161 -1.31097023]\n",
            " [ 2.5947117   1.72235404  1.51067305  1.06461341]\n",
            " [-1.17941441 -1.32398644  0.42515948  0.6686828 ]]\n"
          ]
        }
      ]
    },
    {
      "cell_type": "code",
      "source": [
        "x_test_standardized=scaler.transform(x_test)"
      ],
      "metadata": {
        "id": "xPcZte_Lp5g7"
      },
      "execution_count": null,
      "outputs": []
    },
    {
      "cell_type": "code",
      "source": [
        "print(x_train_standardized.std())"
      ],
      "metadata": {
        "colab": {
          "base_uri": "https://localhost:8080/"
        },
        "id": "fdKhjDFjp76W",
        "outputId": "39c646f7-7f8e-4b3a-e187-502ff34921f7"
      },
      "execution_count": null,
      "outputs": [
        {
          "output_type": "stream",
          "name": "stdout",
          "text": [
            "1.0\n"
          ]
        }
      ]
    },
    {
      "cell_type": "code",
      "source": [
        "print(x_test_standardized.std())"
      ],
      "metadata": {
        "colab": {
          "base_uri": "https://localhost:8080/"
        },
        "id": "Ohl3F5Psp-0N",
        "outputId": "d3e61bf7-a085-42d7-fefc-87cb5efc356c"
      },
      "execution_count": null,
      "outputs": [
        {
          "output_type": "stream",
          "name": "stdout",
          "text": [
            "1.073087128606895\n"
          ]
        }
      ]
    },
    {
      "cell_type": "markdown",
      "source": [
        "the dataset is standardised!\n",
        "\n",
        "---\n",
        "\n"
      ],
      "metadata": {
        "id": "J4z8vRD1wOIZ"
      }
    },
    {
      "cell_type": "markdown",
      "source": [
        "\n",
        "TRAINING THE MODEL:\n",
        "---\n",
        "\n"
      ],
      "metadata": {
        "id": "4GSyBP0Zwic5"
      }
    },
    {
      "cell_type": "markdown",
      "source": [
        "Importing svm and accuracy_score from sklearn:\n",
        "\n",
        "---\n",
        "\n"
      ],
      "metadata": {
        "id": "Ekh8GOszwmwm"
      }
    },
    {
      "cell_type": "code",
      "source": [
        "from sklearn import svm\n",
        "from sklearn.metrics import accuracy_score"
      ],
      "metadata": {
        "id": "GNyy36IGqKJr"
      },
      "execution_count": null,
      "outputs": []
    },
    {
      "cell_type": "code",
      "source": [
        "#trainig the model\n",
        "classifier=svm.SVC(kernel='linear')\n"
      ],
      "metadata": {
        "id": "1QMZ7aWeqUWP"
      },
      "execution_count": null,
      "outputs": []
    },
    {
      "cell_type": "code",
      "source": [
        "classifier.fit(x_train,y_train)"
      ],
      "metadata": {
        "colab": {
          "base_uri": "https://localhost:8080/"
        },
        "id": "k_WRhkZeqhnB",
        "outputId": "79ebff8a-0bbf-4697-9f96-203f5f9ce74f"
      },
      "execution_count": null,
      "outputs": [
        {
          "output_type": "execute_result",
          "data": {
            "text/plain": [
              "SVC(kernel='linear')"
            ]
          },
          "metadata": {},
          "execution_count": 94
        }
      ]
    },
    {
      "cell_type": "code",
      "source": [
        "# MODEL EVALUATION\n",
        "#accuracy _score\n",
        "x_train_prediction=classifier.predict(x_train)\n",
        "training_data_accuracy=accuracy_score(x_train_prediction,y_train)"
      ],
      "metadata": {
        "id": "UpZZ2DLWq71f"
      },
      "execution_count": null,
      "outputs": []
    },
    {
      "cell_type": "code",
      "source": [
        "print(\"Accuracy score of training data:\",training_data_accuracy)"
      ],
      "metadata": {
        "colab": {
          "base_uri": "https://localhost:8080/"
        },
        "id": "n1cYdLh8raiZ",
        "outputId": "fc972095-0378-4035-8f2a-00445c7b61a3"
      },
      "execution_count": null,
      "outputs": [
        {
          "output_type": "stream",
          "name": "stdout",
          "text": [
            "Accuracy score of training data: 0.9916666666666667\n"
          ]
        }
      ]
    },
    {
      "cell_type": "code",
      "source": [
        "x_test_prediction=classifier.predict(x_test)\n",
        "test_data_accuracy=accuracy_score(x_test_prediction,y_test)"
      ],
      "metadata": {
        "id": "cgOeGf34rlMU"
      },
      "execution_count": null,
      "outputs": []
    },
    {
      "cell_type": "code",
      "source": [
        "print(\"Accuracy score of test data:\",test_data_accuracy)"
      ],
      "metadata": {
        "colab": {
          "base_uri": "https://localhost:8080/"
        },
        "id": "f5KN78kVrzks",
        "outputId": "dd7ede63-35d0-41ce-8ad2-24f374f7626b"
      },
      "execution_count": null,
      "outputs": [
        {
          "output_type": "stream",
          "name": "stdout",
          "text": [
            "Accuracy score of test data: 0.9666666666666667\n"
          ]
        }
      ]
    },
    {
      "cell_type": "markdown",
      "source": [
        "We got the accuracy for the dataset... :)  \n",
        "\n",
        "---\n",
        "\n"
      ],
      "metadata": {
        "id": "hLRhwHqpwyhi"
      }
    },
    {
      "cell_type": "markdown",
      "source": [
        "\n",
        "PREDICTING IN IRIS DATASET:\n",
        "---\n",
        "\n",
        "with sample input from the dataset"
      ],
      "metadata": {
        "id": "6Z7fn3G0xAJg"
      }
    },
    {
      "cell_type": "code",
      "source": [
        "#inputing one data from the dataset to check\n",
        "input_data=('5.1','3.5','1.4','0.2')"
      ],
      "metadata": {
        "id": "WPkwGdM_r923"
      },
      "execution_count": null,
      "outputs": []
    },
    {
      "cell_type": "code",
      "source": [
        "#changing input data to numpy array\n",
        "input_data_as_numpy_array=np.asarray(input_data)"
      ],
      "metadata": {
        "id": "4bNvLI3vsS7R"
      },
      "execution_count": null,
      "outputs": []
    },
    {
      "cell_type": "code",
      "source": [
        "#reshaping /because one data out of it dimension changing to (1,-1)\n",
        "input_data_reshaped=input_data_as_numpy_array.reshape(1,-1)"
      ],
      "metadata": {
        "id": "4M-WsGBBscQM"
      },
      "execution_count": null,
      "outputs": []
    },
    {
      "cell_type": "code",
      "source": [
        "import warnings\n",
        "warnings.filterwarnings('ignore')"
      ],
      "metadata": {
        "id": "fJQhIp-wz57-"
      },
      "execution_count": null,
      "outputs": []
    },
    {
      "cell_type": "code",
      "source": [
        "#standerdise data\n",
        "std_data=scaler.transform(input_data_reshaped)\n",
        "print(std_data)"
      ],
      "metadata": {
        "colab": {
          "base_uri": "https://localhost:8080/"
        },
        "id": "QmSusimks8Ry",
        "outputId": "927f07b6-e86e-4cfc-f272-e086f145b1d3"
      },
      "execution_count": null,
      "outputs": [
        {
          "output_type": "stream",
          "name": "stdout",
          "text": [
            "[[-0.927806    1.01935239 -1.34594161 -1.31097023]]\n"
          ]
        }
      ]
    },
    {
      "cell_type": "code",
      "source": [
        "prediction=classifier.predict(std_data)\n",
        "print(prediction)"
      ],
      "metadata": {
        "colab": {
          "base_uri": "https://localhost:8080/"
        },
        "id": "wPQJfghdtHXt",
        "outputId": "5bd26628-e78f-4fdb-9759-61836e05ac02"
      },
      "execution_count": null,
      "outputs": [
        {
          "output_type": "stream",
          "name": "stdout",
          "text": [
            "['Iris-setosa']\n"
          ]
        }
      ]
    },
    {
      "cell_type": "markdown",
      "source": [
        "**THANK YOU!!**"
      ],
      "metadata": {
        "id": "EsPZ_o8XeHD-"
      }
    }
  ]
}